{
 "cells": [
  {
   "cell_type": "code",
   "execution_count": 2,
   "metadata": {},
   "outputs": [
    {
     "name": "stderr",
     "output_type": "stream",
     "text": [
      "c:\\Users\\86137\\.conda\\envs\\gym\\lib\\site-packages\\tqdm\\auto.py:21: TqdmWarning: IProgress not found. Please update jupyter and ipywidgets. See https://ipywidgets.readthedocs.io/en/stable/user_install.html\n",
      "  from .autonotebook import tqdm as notebook_tqdm\n"
     ]
    }
   ],
   "source": [
    "import numpy\n",
    "import json, torch, os\n",
    "import networkx as nx\n",
    "\n",
    "os.environ[\"DGLBACKEND\"] = \"pytorch\"\n",
    "\n",
    "device = 'cuda' if torch.cuda.is_available() else 'cpu'\n",
    "\n",
    "authors_to_pred, coauthor_covid, idx2ct, ct2idx, max_field, ct, ca = torch.load(\"tmp.bin\")"
   ]
  },
  {
   "cell_type": "code",
   "execution_count": 24,
   "metadata": {},
   "outputs": [
    {
     "name": "stdout",
     "output_type": "stream",
     "text": [
      "5\n"
     ]
    }
   ],
   "source": [
    "G = nx.Graph()\n",
    "G.add_nodes_from([i for i in range(1275456)])\n",
    "G.add_weighted_edges_from(coauthor_covid.tolist())\n",
    "# for u, v, weight in G.edges.data('weight'):\n",
    "#     print(u, v, weight)\n",
    "\n",
    "degree = G.degree()\n",
    "print(degree[0])\n",
    "\n",
    "isos = nx.isolates(G)"
   ]
  },
  {
   "cell_type": "code",
   "execution_count": 23,
   "metadata": {},
   "outputs": [],
   "source": [
    "# G.remove_nodes_from(nx.isolates(G.copy()))"
   ]
  },
  {
   "cell_type": "code",
   "execution_count": 11,
   "metadata": {},
   "outputs": [
    {
     "name": "stdout",
     "output_type": "stream",
     "text": [
      "[5, 1, 0, 0, 0, 0, 0, 0, 0, 0, 0, 0]\n"
     ]
    }
   ],
   "source": [
    "y = [degree[i] for i in range(12)]\n",
    "print(y)"
   ]
  },
  {
   "cell_type": "code",
   "execution_count": 19,
   "metadata": {},
   "outputs": [
    {
     "name": "stdout",
     "output_type": "stream",
     "text": [
      "126340\n",
      "neq: 24225\n",
      "Max: 0.05209213791004969\n",
      "arg: 72853\n"
     ]
    }
   ],
   "source": [
    "# Betweenness Centrality\n",
    "\n",
    "k = 10\n",
    "BC = nx.betweenness_centrality(G, k) \n",
    "\n",
    "print(len(BC))\n",
    "\n",
    "neq = 0\n",
    "M = 0\n",
    "argm = 0\n",
    "for idx, itm in BC.items():\n",
    "    if itm>0:\n",
    "        neq += 1\n",
    "        if itm>M:\n",
    "            M = itm\n",
    "            argm = idx\n",
    "print('neq:', neq)\n",
    "print('Max:', M)\n",
    "print('arg:', argm)"
   ]
  },
  {
   "cell_type": "code",
   "execution_count": 18,
   "metadata": {},
   "outputs": [
    {
     "name": "stdout",
     "output_type": "stream",
     "text": [
      "875873\n",
      "neq: 164069\n",
      "Max: 4.103079629905825e-06\n",
      "arg: (28228, 450655)\n"
     ]
    }
   ],
   "source": [
    "# Edge Betweenness Centrality\n",
    "\n",
    "k = 10\n",
    "EBC = nx.edge_betweenness_centrality(G, k, weight='weight') \n",
    "\n",
    "print(len(EBC))\n",
    "\n",
    "neq = 0\n",
    "M = 0\n",
    "argm = 0\n",
    "for idx, itm in EBC.items():\n",
    "    if itm>0:\n",
    "        neq += 1\n",
    "        if itm>M:\n",
    "            M = itm\n",
    "            argm = idx\n",
    "print('neq:', neq)\n",
    "print('Max:', M)\n",
    "print('arg:', argm)"
   ]
  },
  {
   "cell_type": "code",
   "execution_count": 17,
   "metadata": {},
   "outputs": [
    {
     "name": "stdout",
     "output_type": "stream",
     "text": [
      "126340\n",
      "neq: 126340\n",
      "Max: 0.04400518750857429\n",
      "arg: 528762\n"
     ]
    }
   ],
   "source": [
    "EVC = nx.eigenvector_centrality(G, weight='weight')\n",
    "\n",
    "print(len(EVC))\n",
    "\n",
    "neq = 0\n",
    "M = 0\n",
    "argm = 0\n",
    "for idx, itm in EVC.items():\n",
    "    if itm>0:\n",
    "        neq += 1\n",
    "        if itm>M:\n",
    "            M = itm\n",
    "            argm = idx\n",
    "print('neq:', neq)\n",
    "print('Max:', M)\n",
    "print('arg:', argm)"
   ]
  },
  {
   "cell_type": "code",
   "execution_count": 17,
   "metadata": {},
   "outputs": [
    {
     "name": "stdout",
     "output_type": "stream",
     "text": [
      "1275456\n",
      "neq: 126340\n",
      "Max: 0.0005605842620868631\n",
      "arg: 12990\n"
     ]
    }
   ],
   "source": [
    "DEG = nx.degree_centrality(G)\n",
    "print(len(DEG))\n",
    "\n",
    "neq = 0\n",
    "M = 0\n",
    "argm = 0\n",
    "for idx, itm in DEG.items():\n",
    "    if itm>0:\n",
    "        neq += 1\n",
    "        if itm>M:\n",
    "            M = itm\n",
    "            argm = idx\n",
    "print('neq:', neq)\n",
    "print('Max:', M)\n",
    "print('arg:', argm)"
   ]
  },
  {
   "cell_type": "code",
   "execution_count": null,
   "metadata": {},
   "outputs": [],
   "source": [
    "# CC = nx.closeness_centrality(G)\n",
    "# print(len(CC))\n",
    "\n",
    "# neq = 0\n",
    "# M = 0\n",
    "# argm = 0\n",
    "# for idx, itm in CC.items():\n",
    "#     if itm>0:\n",
    "#         neq += 1\n",
    "#         if itm>M:\n",
    "#             M = itm\n",
    "#             argm = idx\n",
    "# print('neq:', neq)\n",
    "# print('Max:', M)\n",
    "# print('arg:', argm)"
   ]
  },
  {
   "cell_type": "code",
   "execution_count": 12,
   "metadata": {},
   "outputs": [],
   "source": [
    "# KATZ = nx.katz_centrality(G, max_iter=100, tol=0.1, weight='weight')\n",
    "\n",
    "# print(len(KATZ))"
   ]
  },
  {
   "cell_type": "code",
   "execution_count": 19,
   "metadata": {},
   "outputs": [
    {
     "name": "stdout",
     "output_type": "stream",
     "text": [
      "neq: 126340\n",
      "Max: 1.0\n",
      "arg: 12990\n"
     ]
    }
   ],
   "source": [
    "def normal(dic):\n",
    "    max_value = max(dic.values())\n",
    "    min_value = min(dic.values())\n",
    "    normalized_dict = {k: (v - min_value) / (max_value - min_value) for k, v in dic.items()}\n",
    "    return normalized_dict\n",
    "# BC = normal(BC)\n",
    "# EBC = normal(EBC)\n",
    "# EVC = normal(EVC)\n",
    "DEG = normal(DEG)\n",
    "\n",
    "neq = 0\n",
    "M = 0\n",
    "argm = 0\n",
    "for idx, itm in DEG.items():\n",
    "    if itm>0:\n",
    "        neq += 1\n",
    "        if itm>M:\n",
    "            M = itm\n",
    "            argm = idx\n",
    "print('neq:', neq)\n",
    "print('Max:', M)\n",
    "print('arg:', argm)"
   ]
  }
 ],
 "metadata": {
  "kernelspec": {
   "display_name": "gym",
   "language": "python",
   "name": "python3"
  },
  "language_info": {
   "codemirror_mode": {
    "name": "ipython",
    "version": 3
   },
   "file_extension": ".py",
   "mimetype": "text/x-python",
   "name": "python",
   "nbconvert_exporter": "python",
   "pygments_lexer": "ipython3",
   "version": "3.8.16"
  },
  "orig_nbformat": 4
 },
 "nbformat": 4,
 "nbformat_minor": 2
}

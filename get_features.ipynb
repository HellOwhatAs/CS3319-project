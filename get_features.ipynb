{
 "cells": [
  {
   "cell_type": "code",
   "execution_count": 1,
   "metadata": {},
   "outputs": [
    {
     "name": "stderr",
     "output_type": "stream",
     "text": [
      "c:\\Users\\86137\\.conda\\envs\\gym\\lib\\site-packages\\tqdm\\auto.py:21: TqdmWarning: IProgress not found. Please update jupyter and ipywidgets. See https://ipywidgets.readthedocs.io/en/stable/user_install.html\n",
      "  from .autonotebook import tqdm as notebook_tqdm\n"
     ]
    }
   ],
   "source": [
    "import numpy\n",
    "import json, torch, os\n",
    "import networkx as nx\n",
    "\n",
    "os.environ[\"DGLBACKEND\"] = \"pytorch\"\n",
    "\n",
    "device = 'cuda' if torch.cuda.is_available() else 'cpu'\n",
    "\n",
    "authors_to_pred, coauthor_covid, idx2ct, ct2idx, max_field, ct, ca = torch.load(\"tmp.bin\")"
   ]
  },
  {
   "cell_type": "code",
   "execution_count": 5,
   "metadata": {},
   "outputs": [],
   "source": [
    "G = nx.Graph()\n",
    "G.add_nodes_from([i for i in range(1275456)])\n",
    "G.add_weighted_edges_from(coauthor_covid.tolist())\n",
    "# for u, v, weight in G.edges.data('weight'):\n",
    "#     print(u, v, weight)\n",
    "G.remove_nodes_from(nx.isolates(G.copy()))"
   ]
  },
  {
   "cell_type": "code",
   "execution_count": 11,
   "metadata": {},
   "outputs": [
    {
     "name": "stdout",
     "output_type": "stream",
     "text": [
      "neq: 24638\n",
      "Max: 0.052139038833226854\n",
      "arg: 25814\n"
     ]
    }
   ],
   "source": [
    "# Betweenness Centrality\n",
    "\n",
    "k = 10\n",
    "BC = nx.betweenness_centrality(G, k) \n",
    "neq = 0\n",
    "M = 0\n",
    "argm = 0\n",
    "for idx, itm in BC.items():\n",
    "    if itm>0:\n",
    "        neq += 1\n",
    "        if itm>M:\n",
    "            M = itm\n",
    "            argm = idx\n",
    "print('neq:', neq)\n",
    "print('Max:', M)\n",
    "print('arg:', argm)"
   ]
  },
  {
   "cell_type": "code",
   "execution_count": 13,
   "metadata": {},
   "outputs": [
    {
     "name": "stdout",
     "output_type": "stream",
     "text": [
      "neq: 150612\n",
      "Max: 4.110284390142785e-06\n",
      "arg: (46159, 694339)\n"
     ]
    }
   ],
   "source": [
    "# Edge Betweenness Centrality\n",
    "\n",
    "k = 10\n",
    "EBC = nx.edge_betweenness_centrality(G, k, weight='weight') \n",
    "neq = 0\n",
    "M = 0\n",
    "argm = 0\n",
    "for idx, itm in EBC.items():\n",
    "    if itm>0:\n",
    "        neq += 1\n",
    "        if itm>M:\n",
    "            M = itm\n",
    "            argm = idx\n",
    "print('neq:', neq)\n",
    "print('Max:', M)\n",
    "print('arg:', argm)"
   ]
  },
  {
   "cell_type": "code",
   "execution_count": 14,
   "metadata": {},
   "outputs": [
    {
     "name": "stdout",
     "output_type": "stream",
     "text": [
      "neq: 126340\n",
      "Max: 0.04400518750857429\n",
      "arg: 528762\n"
     ]
    }
   ],
   "source": [
    "EVC = nx.eigenvector_centrality(G, weight='weight')\n",
    "\n",
    "neq = 0\n",
    "M = 0\n",
    "argm = 0\n",
    "for idx, itm in EVC.items():\n",
    "    if itm>0:\n",
    "        neq += 1\n",
    "        if itm>M:\n",
    "            M = itm\n",
    "            argm = idx\n",
    "print('neq:', neq)\n",
    "print('Max:', M)\n",
    "print('arg:', argm)"
   ]
  }
 ],
 "metadata": {
  "kernelspec": {
   "display_name": "gym",
   "language": "python",
   "name": "python3"
  },
  "language_info": {
   "codemirror_mode": {
    "name": "ipython",
    "version": 3
   },
   "file_extension": ".py",
   "mimetype": "text/x-python",
   "name": "python",
   "nbconvert_exporter": "python",
   "pygments_lexer": "ipython3",
   "version": "3.8.16"
  },
  "orig_nbformat": 4
 },
 "nbformat": 4,
 "nbformat_minor": 2
}
